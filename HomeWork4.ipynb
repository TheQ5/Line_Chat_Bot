{
 "cells": [
  {
   "cell_type": "code",
   "execution_count": 88,
   "metadata": {},
   "outputs": [],
   "source": [
    "\n",
    "\"\"\"\n",
    "\n",
    "啟用伺服器基本樣板\n",
    "\n",
    "\"\"\"\n",
    "# 引用Web Server套件\n",
    "from flask import Flask, request, abort\n",
    "\n",
    "# 從linebot 套件包裡引用 LineBotApi 與 WebhookHandler 類別\n",
    "from linebot import (\n",
    "    LineBotApi, WebhookHandler\n",
    ")\n",
    "\n",
    "# \n",
    "from linebot.exceptions import (\n",
    "    InvalidSignatureError\n",
    ")\n",
    "\n",
    "# 將消息模型，文字收取消息與文字寄發消息 引入\n",
    "from linebot.models import (\n",
    "    MessageEvent, TextMessage, TextSendMessage,ImageMessage, ImageSendMessage\n",
    ")\n",
    "\n",
    "# 載入設定檔\n",
    "\n",
    "import json\n",
    "secretFileContentJson=json.load(open(\"./line_secret_key\",'r'))\n",
    "server_url=secretFileContentJson.get(\"server_url\")\n",
    "\n",
    "\n",
    "# 設定Server啟用細節\n",
    "app = Flask(__name__,static_url_path = \"/images\" , static_folder = \"./images/\" )\n",
    "\n",
    "# 生成實體物件\n",
    "line_bot_api = LineBotApi(secretFileContentJson.get(\"channel_access_token\"))\n",
    "handler = WebhookHandler(secretFileContentJson.get(\"secret_key\"))\n",
    "\n",
    "# 啟動server對外接口，使Line能丟消息進來\n",
    "@app.route(\"/\", methods=['POST'])\n",
    "def callback():\n",
    "    # get X-Line-Signature header value\n",
    "    signature = request.headers['X-Line-Signature']\n",
    "\n",
    "    # get request body as text\n",
    "    body = request.get_data(as_text=True)\n",
    "    app.logger.info(\"Request body: \" + body)\n",
    "\n",
    "    # handle webhook body\n",
    "    try:\n",
    "        handler.handle(body, signature)\n",
    "    except InvalidSignatureError:\n",
    "        abort(400)\n",
    "\n",
    "    return 'OK'"
   ]
  },
  {
   "cell_type": "code",
   "execution_count": 89,
   "metadata": {},
   "outputs": [],
   "source": [
    "'''\n",
    "\n",
    "若收到圖片消息時，\n",
    "\n",
    "先回覆用戶文字消息，並從Line上將照片拿回。\n",
    "\n",
    "'''\n",
    "#收到圖片訊息,把圖片存到本地電腦\n",
    "@handler.add(MessageEvent, message=ImageMessage)\n",
    "def handle_message(event):\n",
    "    message_content = line_bot_api.get_message_content(event.message.id)\n",
    "    with open('./images/'+event.message.id+'.jpg', 'wb') as fd:\n",
    "        for chunk in message_content.iter_content():\n",
    "            fd.write(chunk)\n",
    "#把圖片修改,存回本地電腦\n",
    "    import cv2\n",
    "    import numpy as np\n",
    "    from PIL import ImageFont, ImageDraw, Image\n",
    "\n",
    "    path = './images/'+event.message.id+'.jpg'\n",
    "    NewPath= './images/'+event.message.id+'Ver2.jpg'\n",
    "    m1=cv2.imread(path, 1)\n",
    "\n",
    "    m1 = Image.fromarray(m1)\n",
    "    font = ImageFont.truetype(\"font/kaiu.ttf\", int(170))\n",
    "    ImageDraw.Draw(m1).text((3,3), \":D :D :D :D\", (0, 0, 0), font)\n",
    "    m1 = np.array(m1) \n",
    "\n",
    "    cv2.imwrite(NewPath, m1, [cv2.IMWRITE_JPEG_QUALITY, 100])\n",
    "#把圖片跟消息做成List\n",
    "    reply_message_list = [\n",
    "    TextSendMessage(text=\"收到圖片。\"),\n",
    "    ImageSendMessage(original_content_url='https://2c3c4845.ngrok.io/images/'+ event.message.id +'Ver2.jpg' ,\n",
    "    preview_image_url='https://2c3c4845.ngrok.io/images/'+ event.message.id +'Ver2.jpg'),\n",
    "    ]\n",
    "#發送List\n",
    "    line_bot_api.reply_message(\n",
    "    event.reply_token,\n",
    "    reply_message_list\n",
    "    )"
   ]
  },
  {
   "cell_type": "code",
   "execution_count": null,
   "metadata": {},
   "outputs": [],
   "source": [
    "##小提醒,因為一個token只能用一次,所以要把對話存成一個list,然後用token去傳整個list\n",
    "##小提醒,老師的Github有的點點有兩個 要記得改成一個點點"
   ]
  },
  {
   "cell_type": "code",
   "execution_count": null,
   "metadata": {},
   "outputs": [
    {
     "name": "stdout",
     "output_type": "stream",
     "text": [
      " * Serving Flask app \"__main__\" (lazy loading)\n",
      " * Environment: production\n",
      "   WARNING: This is a development server. Do not use it in a production deployment.\n",
      "   Use a production WSGI server instead.\n",
      " * Debug mode: off\n"
     ]
    },
    {
     "name": "stderr",
     "output_type": "stream",
     "text": [
      " * Running on http://0.0.0.0:5000/ (Press CTRL+C to quit)\n",
      "127.0.0.1 - - [05/Sep/2019 16:40:01] \"POST / HTTP/1.1\" 200 -\n",
      "127.0.0.1 - - [05/Sep/2019 16:40:03] \"GET /images/10515980381091Ver2.jpg HTTP/1.1\" 200 -\n",
      "127.0.0.1 - - [05/Sep/2019 16:42:17] \"POST / HTTP/1.1\" 200 -\n",
      "127.0.0.1 - - [05/Sep/2019 16:42:18] \"GET /images/10515991489517Ver2.jpg HTTP/1.1\" 200 -\n",
      "127.0.0.1 - - [05/Sep/2019 16:42:24] \"GET /images/10515991489517Ver2.jpg HTTP/1.1\" 200 -\n",
      "127.0.0.1 - - [05/Sep/2019 16:42:36] \"GET /images/10515991489517Ver2.jpg HTTP/1.1\" 200 -\n",
      "127.0.0.1 - - [05/Sep/2019 16:42:36] \"GET /images/10515980381091Ver2.jpg HTTP/1.1\" 200 -\n"
     ]
    }
   ],
   "source": [
    "'''\n",
    "\n",
    "啟動Server\n",
    "\n",
    "'''\n",
    "if __name__ == \"__main__\":\n",
    "    app.run(host='0.0.0.0')"
   ]
  }
 ],
 "metadata": {
  "kernelspec": {
   "display_name": "Python 3",
   "language": "python",
   "name": "python3"
  },
  "language_info": {
   "codemirror_mode": {
    "name": "ipython",
    "version": 3
   },
   "file_extension": ".py",
   "mimetype": "text/x-python",
   "name": "python",
   "nbconvert_exporter": "python",
   "pygments_lexer": "ipython3",
   "version": "3.7.4"
  }
 },
 "nbformat": 4,
 "nbformat_minor": 2
}
