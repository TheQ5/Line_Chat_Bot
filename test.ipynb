{
 "cells": [
  {
   "cell_type": "code",
   "execution_count": 15,
   "metadata": {},
   "outputs": [],
   "source": [
    "# 引用Web Server套件\n",
    "from flask import Flask, request, abort\n",
    "\n",
    "# 從linebot 套件包裡引用 LineBotApi 與 WebhookHandler 類別\n",
    "from linebot import (\n",
    "    LineBotApi, WebhookHandler\n",
    ")\n",
    "\n",
    "# \n",
    "from linebot.exceptions import (\n",
    "    InvalidSignatureError\n",
    ")\n",
    "\n",
    "# 將消息模型，文字收取消息與文字寄發消息 引入\n",
    "from linebot.models import (\n",
    "    MessageEvent, TextMessage, TextSendMessage, ImageMessage, AudioMessage\n",
    ")\n",
    "\n",
    "# 載入設定檔\n",
    "\n",
    "import json\n",
    "secretFileContentJson=json.load(open(\"./line_secret_key\",'r'))\n",
    "server_url=secretFileContentJson.get(\"server_url\")\n",
    "\n",
    "\n",
    "# 設定Server啟用細節\n",
    "app = Flask(__name__,static_url_path = \"/images\" , static_folder = \"./images/\" )\n",
    "\n",
    "# 生成實體物件\n",
    "line_bot_api = LineBotApi(secretFileContentJson.get(\"channel_access_token\"))\n",
    "handler = WebhookHandler(secretFileContentJson.get(\"secret_key\"))\n",
    "\n",
    "# 啟動server對外接口，使Line能丟消息進來\n",
    "@app.route(\"/\", methods=['POST'])\n",
    "def callback():\n",
    "    # get X-Line-Signature header value\n",
    "    signature = request.headers['X-Line-Signature']\n",
    "\n",
    "    # get request body as text\n",
    "    body = request.get_data(as_text=True)\n",
    "    app.logger.info(\"Request body: \" + body)\n",
    "\n",
    "    # handle webhook body\n",
    "    try:\n",
    "        handler.handle(body, signature)\n",
    "    except InvalidSignatureError:\n",
    "        abort(400)\n",
    "\n",
    "    return 'OK'"
   ]
  },
  {
   "cell_type": "code",
   "execution_count": 16,
   "metadata": {},
   "outputs": [],
   "source": [
    "from aip import AipSpeech\n",
    "import json\n",
    "import time\n",
    "import os\n",
    "import wave\n",
    "from pydub import AudioSegment\n",
    "from predict import *  ## * 很重要,pip install才可以直接import 自製的py檔要加*\n",
    "\n",
    "\"\"\" 你的 APPID AK SK \"\"\"\n",
    "APP_ID = '17610496'\n",
    "API_KEY = '3HxD7AjTwLrjEdWzjno97lbl'\n",
    "SECRET_KEY = 'rPBbzb3enl2EA0cK0n98zHktbWDqYPt8'\n",
    "\n",
    "begin = time.time()\n",
    "client = AipSpeech(APP_ID, API_KEY, SECRET_KEY)\n",
    "\n",
    "# 读取文件\n",
    "def get_file_content(filepath):\n",
    "    with open(filepath, 'rb') as fp:\n",
    "        return fp.read()\n",
    "    \n",
    "# aac 轉 wav\n",
    "def convert_aac_to_wav(aacPath):\n",
    "    # 還在思考路徑怎麼寫...\n",
    "    # convert aac to wav\n",
    "    aac = AudioSegment.from_file(aacPath)\n",
    "    aac.export(aacPath.split(\".\")[-2].replace(\"/\",\"\") + \".wav\", format=\"wav\")\n",
    "\n",
    "    # check data\n",
    "    voice = wave.open(aacPath.split(\".\")[-2].replace(\"/\",\"\") + \".wav\", \"rb\")\n",
    "    channel, _, framerate, _, _, _ = voice.getparams()\n",
    "    print(f\"###開始轉檔###\\n聲道數:{channel} 音頻:{framerate}\\n###轉檔成功###\")\n",
    "\n",
    "#情感分析\n",
    "def emotion_predict(text):\n",
    "    sm = sentimentModel(text)\n",
    "    #clear_output()\n",
    "    model = sm.loadModel(sm.modelPath)\n",
    "\n",
    "    print(f\"要預測的話:\\n{text}\")\n",
    "    print(\"=\"*25 + \"開始預測\" + \"=\"*25)\n",
    "    token_tensor, segment_tensor, mask_tensor = sm.convert_text_to_bertEat(text)\n",
    "    pred_num, pred = sm.sentimentPredict(model, token_tensor, segment_tensor, mask_tensor)\n",
    "\n",
    "    sign = sm.pass_sign_to_lineAndgui_or_nextModel(pred_num)\n",
    "    \n",
    "    print(f\"預測結果為:{pred}\")\n",
    "    print(\"=\"*25 + \"預測結束\" + \"=\"*25)\n",
    "    \n",
    "    return sign"
   ]
  },
  {
   "cell_type": "code",
   "execution_count": 17,
   "metadata": {},
   "outputs": [
    {
     "name": "stdout",
     "output_type": "stream",
     "text": [
      "Wall time: 0 ns\n"
     ]
    }
   ],
   "source": [
    "@handler.add(MessageEvent, message=AudioMessage)\n",
    "def handle_message(event):\n",
    "    #接收資料,回傳一段訊息給用戶,並將資料取回本機\n",
    "    line_bot_api.reply_message(\n",
    "        event.reply_token,\n",
    "        TextSendMessage(text='沒事亂傳訊息，害我又要加班'))\n",
    "    message_content = line_bot_api.get_message_content(event.message.id)\n",
    "    with open('./audios/'+event.message.id+\".aac\", 'wb') as fd: ###LINE預設音檔是.aac\n",
    "        for chunk in message_content.iter_content():\n",
    "            fd.write(chunk)\n",
    "            \n",
    "    #sleep兩秒,確定檔案已寫入完成        \n",
    "    time.sleep(2)\n",
    "    \n",
    "    #把aac檔轉成wav檔:\"語音轉文字的api只接受wav\"\n",
    "    accPath = \"./audios/\"+event.message.id+\".aac\"\n",
    "    convert_aac_to_wav(accPath)\n",
    "    \n",
    "    #sleep兩秒,確定儲存完成\n",
    "    time.sleep(2)        \n",
    "    \n",
    "    #把語音轉成文字\n",
    "    print(\"語音轉文字中\")\n",
    "    voicefile = \"audios\"+event.message.id+\".wav\"\n",
    "    #base = \"./audios/\"\n",
    "    # print(base+voicefile)\n",
    "    result = client.asr(get_file_content(voicefile), 'wav', 16000, {\n",
    "        'dev_pid': 1536,\n",
    "    })\n",
    "    \n",
    "    # print(result)\n",
    "    print(\"Request time cost %f\" % (time.time() - begin))\n",
    "    if result['err_no'] == 0:\n",
    "        ofile = \"result_%s.txt\" % (voicefile)\n",
    "        with open(ofile, \"w\", encoding=\"utf-8\") as of:\n",
    "            json.dump(result, of, ensure_ascii=False)\n",
    "    else:\n",
    "        print(result['err_msg'], result['err_no'])\n",
    "    print(result[\"result\"])\n",
    "    \n",
    "    #取出判別的內文\n",
    "    text = result[\"result\"][0]\n",
    "    predict = emotion_predict(str(text))"
   ]
  },
  {
   "cell_type": "code",
   "execution_count": 18,
   "metadata": {
    "scrolled": false
   },
   "outputs": [
    {
     "name": "stdout",
     "output_type": "stream",
     "text": [
      " * Serving Flask app \"__main__\" (lazy loading)\n",
      " * Environment: production\n",
      "   WARNING: This is a development server. Do not use it in a production deployment.\n",
      "   Use a production WSGI server instead.\n",
      " * Debug mode: off\n"
     ]
    },
    {
     "name": "stderr",
     "output_type": "stream",
     "text": [
      " * Running on http://0.0.0.0:5000/ (Press CTRL+C to quit)\n"
     ]
    },
    {
     "name": "stdout",
     "output_type": "stream",
     "text": [
      "###開始轉檔###\n",
      "聲道數:1 音頻:16000\n",
      "###轉檔成功###\n",
      "語音轉文字中\n",
      "Request time cost 45.786392\n",
      "['信用卡申请']\n",
      "Device:cpu\n",
      "要預測的話:\n",
      "信用卡申请\n",
      "=========================開始預測=========================\n",
      "預測結果為:Clam Positive\n",
      "=========================預測結束=========================\n"
     ]
    },
    {
     "name": "stderr",
     "output_type": "stream",
     "text": [
      "127.0.0.1 - - [31/Oct/2019 15:23:01] \"POST / HTTP/1.1\" 200 -\n"
     ]
    }
   ],
   "source": [
    "if __name__ == \"__main__\":\n",
    "    app.run(host='0.0.0.0')"
   ]
  },
  {
   "cell_type": "code",
   "execution_count": 5,
   "metadata": {},
   "outputs": [],
   "source": [
    "# from aip import AipSpeech\n",
    "# import json\n",
    "# import time\n",
    "\n",
    "# \"\"\" 你的 APPID AK SK \"\"\"\n",
    "# APP_ID = '17610496'\n",
    "# API_KEY = '3HxD7AjTwLrjEdWzjno97lbl'\n",
    "# SECRET_KEY = 'rPBbzb3enl2EA0cK0n98zHktbWDqYPt8'\n",
    "\n",
    "# begin = time.time()\n",
    "# client = AipSpeech(APP_ID, API_KEY, SECRET_KEY)\n",
    "\n",
    "\n",
    "# # 读取文件\n",
    "# def get_file_content(filepath):\n",
    "#     with open(filepath, 'rb') as fp:\n",
    "#         return fp.read()\n",
    "\n",
    "\n",
    "# # 识别本地文件\n",
    "# voicefile = \"audios10832336465039.wav\"\n",
    "# # base = \"./audios/\"\n",
    "# # print(base+voicefile)\n",
    "# result = client.asr(get_file_content(voicefile), 'wav', 16000, {\n",
    "#     'dev_pid': 1536,\n",
    "# })\n",
    "# # print(result)\n",
    "# print(\"Request time cost %f\" % (time.time() - begin))\n",
    "# if result['err_no'] == 0:\n",
    "#     ofile = \"result_%s.txt\" % (voicefile)\n",
    "#     with open(ofile, \"w\", encoding=\"utf-8\") as of:\n",
    "#         json.dump(result, of, ensure_ascii=False)\n",
    "# else:\n",
    "#     print(result['err_msg'], result['err_no'])\n",
    "\n",
    "# print(\"完成了\")"
   ]
  },
  {
   "cell_type": "code",
   "execution_count": 6,
   "metadata": {},
   "outputs": [],
   "source": [
    "# import wave\n",
    "\n",
    "# with wave.open('./audios/10826265961358.wav', \"rb\") as f:\n",
    "#     f = wave.open('./audios/10826265961358.wav')\n",
    "#     print(f.getparams())"
   ]
  },
  {
   "cell_type": "code",
   "execution_count": 7,
   "metadata": {},
   "outputs": [],
   "source": [
    "# import librosa\n",
    "# import soundfile as sf\n",
    "# x,_ = librosa.load('./audios/10826265961358.wav', sr=16000)\n",
    "# sf.write('tmp.wav', x, 16000)\n",
    "# wave.open('tmp.wav','r')"
   ]
  },
  {
   "cell_type": "code",
   "execution_count": 8,
   "metadata": {},
   "outputs": [],
   "source": [
    "# import os\n",
    "# import wave\n",
    "# os.system(r\"ffmpeg -i 10826265961358.wav b0.wav\")\n",
    "# wave.open('b0', \"r\")"
   ]
  },
  {
   "cell_type": "code",
   "execution_count": 9,
   "metadata": {},
   "outputs": [],
   "source": [
    "# b=os.popen(r\"ffmpeg -y -i ./audios/10826265961358.wav  -acodec pcm_s16le -f s16le -ac 1 -ar 16000 ./audios/1082626596135800.wav\")"
   ]
  },
  {
   "cell_type": "code",
   "execution_count": 10,
   "metadata": {},
   "outputs": [],
   "source": [
    "# from google.colab import drive"
   ]
  },
  {
   "cell_type": "code",
   "execution_count": null,
   "metadata": {},
   "outputs": [],
   "source": []
  },
  {
   "cell_type": "code",
   "execution_count": null,
   "metadata": {},
   "outputs": [],
   "source": []
  }
 ],
 "metadata": {
  "kernelspec": {
   "display_name": "Python 3",
   "language": "python",
   "name": "python3"
  },
  "language_info": {
   "codemirror_mode": {
    "name": "ipython",
    "version": 3
   },
   "file_extension": ".py",
   "mimetype": "text/x-python",
   "name": "python",
   "nbconvert_exporter": "python",
   "pygments_lexer": "ipython3",
   "version": "3.7.4"
  }
 },
 "nbformat": 4,
 "nbformat_minor": 2
}
